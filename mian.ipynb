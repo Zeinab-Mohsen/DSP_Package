{
 "cells": [
  {
   "cell_type": "code",
   "execution_count": 1,
   "metadata": {},
   "outputs": [],
   "source": [
    "import sys\n",
    "sys.path.append('../') \n",
    "\n",
    "import numpy as np\n",
    "from Test.Sin_Cos.comparesignals import SignalSamplesAreEqual\n",
    "from Utils.read_signal_file import seperate_file_date\n",
    "from Utils.plot_graph import plot_data\n",
    "from Utils.generate_signals import generate_sin_signal, generate_cos_signal\n"
   ]
  },
  {
   "cell_type": "code",
   "execution_count": 2,
   "metadata": {},
   "outputs": [],
   "source": [
    "import tkinter as tk\n",
    "\n",
    "root = tk.Tk()\n",
    "\n",
    "root.title(\"DSP Package\")\n",
    "root.geometry(\"900x700\")\n",
    "# root.resizable(False, False)\n",
    "\n",
    "root.geometry(\"900x700+100+100\")\n",
    "\n",
    "label = tk.Label(root, text=\"Signals Representation\", font=(\"Times New Roman\", 20))\n",
    "label.pack(padx=15, pady=15)\n",
    "\n",
    "\n",
    "# label = tk.Label(root, text=\"Signals Generation\", font=(\"Times New Roman\", 20))\n",
    "# label.pack(padx=15, pady=15)\n",
    "\n",
    "# amplitude_label = tk.Label(root, text=\"Amplitude\", font=(\"Times New Roman\", 18))\n",
    "# amplitude_label.pack()\n",
    "# amplitude_textbox = tk.Entry(root, font=(\"Times New Roman\", 15), width=20)\n",
    "# amplitude_textbox.pack(padx=5, pady=5)\n",
    "\n",
    "# phase_shift_label = tk.Label(root, text=\"Phase Shift\", font=(\"Times New Roman\", 18))\n",
    "# phase_shift_label.pack()\n",
    "# phase_shift_textbox = tk.Entry(root, font=(\"Times New Roman\", 15), width=20)\n",
    "# phase_shift_textbox.pack(padx=5, pady=5)\n",
    "\n",
    "# analog_frequency_label = tk.Label(root, text=\"Analog Frequency\", font=(\"Times New Roman\", 18))\n",
    "# analog_frequency_label.pack()\n",
    "# analog_frequency_textbox = tk.Entry(root, font=(\"Times New Roman\", 15), width=20)\n",
    "# analog_frequency_textbox.pack(padx=5, pady=5)\n",
    "\n",
    "# sampling_frequency_label = tk.Label(root, text=\"Sampling Frequency\", font=(\"Times New Roman\", 18))\n",
    "# sampling_frequency_label.pack()\n",
    "# sampling_frequency_textbox = tk.Entry(root, font=(\"Times New Roman\", 15), width=20)\n",
    "# sampling_frequency_textbox.pack(padx=5, pady=5)\n",
    "\n",
    "\n",
    "# # how to read the values from the textboxes\n",
    "# def get_values():\n",
    "#     amplitude = amplitude_textbox.get()\n",
    "#     phase_shift = phase_shift_textbox.get()\n",
    "#     analog_frequency = analog_frequency_textbox.get()\n",
    "#     sampling_frequency = sampling_frequency_textbox.get()\n",
    "#     print(amplitude, phase_shift, analog_frequency, sampling_frequency)\n",
    "\n",
    "# # How to rectrict the values of the textboxes to be only numbers and decimal point\n",
    "# def validate_float(action, index, value_if_allowed, prior_value, text, validation_type, trigger_type, widget_name):\n",
    "#     if value_if_allowed:\n",
    "#         try:\n",
    "#             float(value_if_allowed)\n",
    "#             return True\n",
    "#         except ValueError:\n",
    "#             return False\n",
    "#     else:\n",
    "#         return False\n",
    " \n",
    "# write the import statements here\n",
    "\n",
    "\n",
    "\n",
    "# How to add a plot to the GUI\n",
    "# def plot():\n",
    "#     fig = Figure(figsize=(1, 2))\n",
    "#     t = np.arange(0, 3, .01)\n",
    "#     fig.add_subplot(111).plot(t, 2 * np.sin(2 * np.pi * t))\n",
    "#     canvas = FigureCanvasTkAgg(fig, master=root)  # A tk.DrawingArea.\n",
    "#     canvas.draw()\n",
    "#     canvas.get_tk_widget().pack(side=tk.TOP, fill=tk.BOTH, expand=1)\n",
    "\n",
    "# plot()\n",
    "\n",
    "#     amplitude = amplitude_textbox.get()\n",
    "#     phase_shift = phase_shift_textbox.get()\n",
    "#     analog_frequency = analog_frequency_textbox.get()\n",
    "#     sampling_frequency = sampling_frequency_textbox.get()\n",
    "#     print(amplitude, phase_shift, analog_frequency, sampling_frequency)\n",
    "\n",
    "\n",
    "\n",
    "\n",
    "\n"
   ]
  },
  {
   "cell_type": "code",
   "execution_count": 3,
   "metadata": {},
   "outputs": [],
   "source": [
    "data, signal_type, is_periodic, n_samples = seperate_file_date(\"Signals\\signal1.txt\")"
   ]
  },
  {
   "cell_type": "code",
   "execution_count": 4,
   "metadata": {},
   "outputs": [
    {
     "data": {
      "image/png": "[encoded data removed]",
      "text/plain": [
       "<Figure size 1440x288 with 1 Axes>"
      ]
     },
     "metadata": {
      "needs_background": "light"
     },
     "output_type": "display_data"
    }
   ],
   "source": [
    "# Extract x and y values from data\n",
    "x = [point[0] for point in data]\n",
    "y = [point[1] for point in data]\n",
    "\n",
    "plot_data(x=x, y=y, plot_type=\"continuous\", title=\"Continuous Representation\", x_label=\"Time\", y_label=\"Amplitude\")"
   ]
  },
  {
   "cell_type": "code",
   "execution_count": 5,
   "metadata": {},
   "outputs": [
    {
     "data": {
      "image/png": "[encoded data removed]",
      "text/plain": [
       "<Figure size 432x288 with 1 Axes>"
      ]
     },
     "metadata": {
      "needs_background": "light"
     },
     "output_type": "display_data"
    }
   ],
   "source": [
    "import numpy as np\n",
    "from matplotlib.figure import Figure\n",
    "from matplotlib.backends.backend_tkagg import (FigureCanvasTkAgg, NavigationToolbar2Tk)\n",
    "import matplotlib.pyplot as plt\n",
    "\n",
    "fig, ax = plt.subplots()\n",
    "\n",
    "canvas = FigureCanvasTkAgg(fig, master=root)\n",
    "canvas.get_tk_widget().pack()\n",
    "\n",
    "canvas.draw()"
   ]
  },
  {
   "cell_type": "code",
   "execution_count": 6,
   "metadata": {},
   "outputs": [],
   "source": [
    "\n",
    "button = tk.Button(root, text=\"Generate\", font=(\"Times New Roman\", 20), bg=\"white\", fg=\"black\", width=15, height=1)\n",
    "button.pack(padx=5, pady=5)\n",
    "\n",
    "root.mainloop()\n"
   ]
  }
 ],
 "metadata": {
  "kernelspec": {
   "display_name": "ml",
   "language": "python",
   "name": "python3"
  },
  "language_info": {
   "name": "python",
   "version": "3.6.13"
  }
 },
 "nbformat": 4,
 "nbformat_minor": 2
}
